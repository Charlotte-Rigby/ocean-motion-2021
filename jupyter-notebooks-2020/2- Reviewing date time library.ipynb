{
 "cells": [
  {
   "cell_type": "markdown",
   "metadata": {},
   "source": [
    "We probably remember that we are working with 4-d data, where the dimensions are TIME x DEPTH x LAT x LON. \n",
    "\n",
    "The goal for this notebook is to loop through all the times and write the dates in YEARMONTHDAY format. "
   ]
  },
  {
   "cell_type": "code",
   "execution_count": 2,
   "metadata": {},
   "outputs": [],
   "source": [
    "import numpy as np\n",
    "from netCDF4 import Dataset\n",
    "import datetime as td"
   ]
  },
  {
   "cell_type": "markdown",
   "metadata": {},
   "source": [
    "Before we look at our data, here is an example of working with date and timedelta. Say you want to find out the date 10 years after March 9th, 2020:"
   ]
  },
  {
   "cell_type": "code",
   "execution_count": 3,
   "metadata": {},
   "outputs": [
    {
     "name": "stdout",
     "output_type": "stream",
     "text": [
      "2020-03-09\n"
     ]
    }
   ],
   "source": [
    "march_9_2020 = td.date(2020,3,9)\n",
    "print(march_9_2020)"
   ]
  },
  {
   "cell_type": "code",
   "execution_count": 4,
   "metadata": {},
   "outputs": [],
   "source": [
    "ten_years = td.timedelta(days =10*365) # this doesn't consider leap years"
   ]
  },
  {
   "cell_type": "code",
   "execution_count": 5,
   "metadata": {},
   "outputs": [
    {
     "name": "stdout",
     "output_type": "stream",
     "text": [
      "2030-03-07\n"
     ]
    }
   ],
   "source": [
    "date_in_10_years = ten_years + march_9_2020\n",
    "print(date_in_10_years)"
   ]
  },
  {
   "cell_type": "markdown",
   "metadata": {},
   "source": [
    "-------------------\n",
    "# Now let's look at our data\n",
    "\n",
    "The first thing is to import the dataset as a Dataset object"
   ]
  },
  {
   "cell_type": "code",
   "execution_count": 6,
   "metadata": {},
   "outputs": [],
   "source": [
    "data = Dataset('/Users/brownscholar/Desktop/BridgeUp_Year2/n-atlantic-2018.nc')"
   ]
  },
  {
   "cell_type": "markdown",
   "metadata": {},
   "source": [
    "Then we want to read in the time variable. Do that here:"
   ]
  },
  {
   "cell_type": "code",
   "execution_count": 23,
   "metadata": {},
   "outputs": [
    {
     "name": "stdout",
     "output_type": "stream",
     "text": [
      "<class 'netCDF4._netCDF4.Variable'>\n",
      "int16 zo(time, depth, latitude, longitude)\n",
      "    _FillValue: 32767\n",
      "    long_name: absolute height\n",
      "    scale_factor: 0.001\n",
      "    standard_name: geopotential_height\n",
      "    unit_long: meter\n",
      "    units: m\n",
      "    valid_range: [-20000  20000]\n",
      "unlimited dimensions: \n",
      "current shape = (261, 1, 158, 122)\n",
      "filling on\n"
     ]
    }
   ],
   "source": [
    "# do that here: \n",
    "time = data['zo']\n",
    "print(time)"
   ]
  },
  {
   "cell_type": "markdown",
   "metadata": {},
   "source": [
    "Print the shape of the time variable:"
   ]
  },
  {
   "cell_type": "code",
   "execution_count": 24,
   "metadata": {},
   "outputs": [
    {
     "name": "stdout",
     "output_type": "stream",
     "text": [
      "(261, 1, 158, 122)\n"
     ]
    }
   ],
   "source": [
    "# do that here:\n",
    "print(time.shape)"
   ]
  },
  {
   "cell_type": "markdown",
   "metadata": {},
   "source": [
    "Before we start using datetime, in terminal (open a new window or tab) look at the units of time. Using this info, define a start date:"
   ]
  },
  {
   "cell_type": "code",
   "execution_count": 11,
   "metadata": {},
   "outputs": [
    {
     "name": "stdout",
     "output_type": "stream",
     "text": [
      "1950-01-01\n"
     ]
    }
   ],
   "source": [
    "# do this here (the units are hours)\n",
    "start_date = td.date(1950,1,1)\n",
    "print(start_date)"
   ]
  },
  {
   "cell_type": "markdown",
   "metadata": {},
   "source": [
    "Now, looping through the time numpy array, calculate and print the date using timedelta:"
   ]
  },
  {
   "cell_type": "code",
   "execution_count": 22,
   "metadata": {},
   "outputs": [
    {
     "name": "stdout",
     "output_type": "stream",
     "text": [
      "377064\n",
      "930106\n",
      "930113\n",
      "930120\n",
      "930127\n",
      "930203\n",
      "930210\n",
      "930217\n",
      "930224\n",
      "930303\n",
      "930310\n",
      "930317\n",
      "930324\n",
      "930331\n",
      "930407\n",
      "930414\n",
      "930421\n",
      "930428\n",
      "930505\n",
      "930512\n",
      "930519\n",
      "930526\n",
      "930602\n",
      "930609\n",
      "930616\n",
      "930623\n",
      "930630\n",
      "930707\n",
      "930714\n",
      "930721\n",
      "930728\n",
      "930804\n",
      "930811\n",
      "930818\n",
      "930825\n",
      "930901\n",
      "930908\n",
      "930915\n",
      "930922\n",
      "930929\n",
      "931006\n",
      "931013\n",
      "931020\n",
      "931027\n",
      "931103\n",
      "931110\n",
      "931117\n",
      "931124\n",
      "931201\n",
      "931208\n",
      "931215\n",
      "931222\n",
      "931229\n",
      "940105\n",
      "940112\n",
      "940119\n",
      "940126\n",
      "940202\n",
      "940209\n",
      "940216\n",
      "940223\n",
      "940302\n",
      "940309\n",
      "940316\n",
      "940323\n",
      "940330\n",
      "940406\n",
      "940413\n",
      "940420\n",
      "940427\n",
      "940504\n",
      "940511\n",
      "940518\n",
      "940525\n",
      "940601\n",
      "940608\n",
      "940615\n",
      "940622\n",
      "940629\n",
      "940706\n",
      "940713\n",
      "940720\n",
      "940727\n",
      "940803\n",
      "940810\n",
      "940817\n",
      "940824\n",
      "940831\n",
      "940907\n",
      "940914\n",
      "940921\n",
      "940928\n",
      "941005\n",
      "941012\n",
      "941019\n",
      "941026\n",
      "941102\n",
      "941109\n",
      "941116\n",
      "941123\n",
      "941130\n",
      "941207\n",
      "941214\n",
      "941221\n",
      "941228\n",
      "950104\n",
      "950111\n",
      "950118\n",
      "950125\n",
      "950201\n",
      "950208\n",
      "950215\n",
      "950222\n",
      "950301\n",
      "950308\n",
      "950315\n",
      "950322\n",
      "950329\n",
      "950405\n",
      "950412\n",
      "950419\n",
      "950426\n",
      "950503\n",
      "950510\n",
      "950517\n",
      "950524\n",
      "950531\n",
      "950607\n",
      "950614\n",
      "950621\n",
      "950628\n",
      "950705\n",
      "950712\n",
      "950719\n",
      "950726\n",
      "950802\n",
      "950809\n",
      "950816\n",
      "950823\n",
      "950830\n",
      "950906\n",
      "950913\n",
      "950920\n",
      "950927\n",
      "951004\n",
      "951011\n",
      "951018\n",
      "951025\n",
      "951101\n",
      "951108\n",
      "951115\n",
      "951122\n",
      "951129\n",
      "951206\n",
      "951213\n",
      "951220\n",
      "951227\n",
      "960103\n",
      "960110\n",
      "960117\n",
      "960124\n",
      "960131\n",
      "960207\n",
      "960214\n",
      "960221\n",
      "960228\n",
      "960306\n",
      "960313\n",
      "960320\n",
      "960327\n",
      "960403\n",
      "960410\n",
      "960417\n",
      "960424\n",
      "960501\n",
      "960508\n",
      "960515\n",
      "960522\n",
      "960529\n",
      "960605\n",
      "960612\n",
      "960619\n",
      "960626\n",
      "960703\n",
      "960710\n",
      "960717\n",
      "960724\n",
      "960731\n",
      "960807\n",
      "960814\n",
      "960821\n",
      "960828\n",
      "960904\n",
      "960911\n",
      "960918\n",
      "960925\n",
      "961002\n",
      "961009\n",
      "961016\n",
      "961023\n",
      "961030\n",
      "961106\n",
      "961113\n",
      "961120\n",
      "961127\n",
      "961204\n",
      "961211\n",
      "961218\n",
      "961225\n",
      "970101\n",
      "970108\n",
      "970115\n",
      "970122\n",
      "970129\n",
      "970205\n",
      "970212\n",
      "970219\n",
      "970226\n",
      "970305\n",
      "970312\n",
      "970319\n",
      "970326\n",
      "970402\n",
      "970409\n",
      "970416\n",
      "970423\n",
      "970430\n",
      "970507\n",
      "970514\n",
      "970521\n",
      "970528\n",
      "970604\n",
      "970611\n",
      "970618\n",
      "970625\n",
      "970702\n",
      "970709\n",
      "970716\n",
      "970723\n",
      "970730\n",
      "970806\n",
      "970813\n",
      "970820\n",
      "970827\n",
      "970903\n",
      "970910\n",
      "970917\n",
      "970924\n",
      "971001\n",
      "971008\n",
      "971015\n",
      "971022\n",
      "971029\n",
      "971105\n",
      "971112\n",
      "971119\n",
      "971126\n",
      "971203\n",
      "971210\n",
      "971217\n",
      "971224\n",
      "971231\n"
     ]
    }
   ],
   "source": [
    "# do this here\n",
    "print(time[0])\n",
    "#t1 = float(time[0])\n",
    "#first_date  = td.timedelta(hours= t1)+ start_date \n",
    "#print(first_date)\n",
    "for i in range(0,261):\n",
    "    t1 = float(time[i])\n",
    "    first_date  = td.timedelta(hours= t1)+ start_date \n",
    "    print(first_date.strftime(\"%y\") + first_date.strftime(\"%m\") + first_date.strftime(\"%d\"))"
   ]
  },
  {
   "cell_type": "markdown",
   "metadata": {},
   "source": [
    "--------------------\n",
    "# Finally,\n",
    "we want to turn these date objects into strings that are of the form YEARMONTHDAY. Here is an example of how to do this using the ``march_9_2020`` date we made before:"
   ]
  },
  {
   "cell_type": "code",
   "execution_count": 21,
   "metadata": {},
   "outputs": [
    {
     "name": "stdout",
     "output_type": "stream",
     "text": [
      "200309\n"
     ]
    }
   ],
   "source": [
    "print(march_9_2020.strftime(\"%y\") + march_9_2020.strftime(\"%m\") + march_9_2020.strftime(\"%d\"))\n",
    "\n",
    "# if this is confusing to you google the function \"strftime\" "
   ]
  },
  {
   "cell_type": "markdown",
   "metadata": {},
   "source": [
    "Add this to your loop and print the YEARMONTHDAY date for each date."
   ]
  },
  {
   "cell_type": "markdown",
   "metadata": {},
   "source": [
    "Now: How can we add this to our code to change our file names? "
   ]
  },
  {
   "cell_type": "code",
   "execution_count": null,
   "metadata": {},
   "outputs": [],
   "source": []
  }
 ],
 "metadata": {
  "kernelspec": {
   "display_name": "Python 3",
   "language": "python",
   "name": "python3"
  },
  "language_info": {
   "codemirror_mode": {
    "name": "ipython",
    "version": 3
   },
   "file_extension": ".py",
   "mimetype": "text/x-python",
   "name": "python",
   "nbconvert_exporter": "python",
   "pygments_lexer": "ipython3",
   "version": "3.7.3"
  }
 },
 "nbformat": 4,
 "nbformat_minor": 2
}
